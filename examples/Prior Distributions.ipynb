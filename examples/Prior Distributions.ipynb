{
 "cells": [
  {
   "cell_type": "markdown",
   "metadata": {},
   "source": [
    "---\n",
    "---\n",
    "\n",
    "# <center><font color='black'>Prior Distributions</font></center> <a class=\"tocSkip\">\n",
    "    \n",
    "### <center><font color='black'>Nicolai Haug</font></center> <a class=\"tocSkip\">\n",
    "    \n",
    "### <center><font color='black'>2021</font></center> <a class=\"tocSkip\">\n",
    "    \n",
    "---\n",
    "---"
   ]
  },
  {
   "cell_type": "markdown",
   "metadata": {},
   "source": [
    "# Table of Contents <a class=\"tocSkip\">\n",
    "\n",
    "* [Introduction](#introduction)\n",
    "    * [Configure Notebook](#configure) \n",
    "* [Prior Distributions](#priors)\n",
    "    * [How to Choose a Prior](#howto)\n",
    "* [Available Distributions in pyLFI](#available)\n",
    "    * [Continuous Distributions](#cont)\n",
    "        * [Uniform](#uniform)\n",
    "        * [Normal](#normal)\n",
    "        * [Beta](#beta)\n",
    "        * [Lognormal](#lognormal)\n",
    "        * [Exponential](#exponential)\n",
    "        * [Gamma](#gamma)\n",
    "        * [Inverse Gamma](#invgamma)\n",
    "    * [Discrete Distributions](#discrete)\n",
    "        * [Uniform Random Integers](#randint)\n",
    "        * [Binomial](#binom)\n",
    "        * [Negative Binomial](#negbinom)\n",
    "        * [Poisson](#poisson)"
   ]
  },
  {
   "cell_type": "markdown",
   "metadata": {},
   "source": [
    "# Introduction <a name=\"introduction\"></a>\n",
    "\n",
    "Introduce notebook"
   ]
  },
  {
   "cell_type": "markdown",
   "metadata": {},
   "source": [
    "## Configure Notebook <a name=\"configure\"></a>"
   ]
  },
  {
   "cell_type": "code",
   "execution_count": null,
   "metadata": {},
   "outputs": [],
   "source": [
    "import os\n",
    "import sys\n",
    "\n",
    "import matplotlib.pyplot as plt\n",
    "import numpy as np\n",
    "import pandas as pd\n",
    "import scipy.stats as stats\n",
    "import seaborn as sns\n",
    "\n",
    "from IPython.display import display\n",
    "from latex_envs.latex_envs import figcaption \n",
    "from matplotlib import cm\n",
    "from matplotlib import gridspec\n",
    "from matplotlib.ticker import FormatStrFormatter, LinearLocator\n",
    "from mpl_toolkits.mplot3d import Axes3D\n",
    "from numpy.random import default_rng\n",
    "\n",
    "import warnings\n",
    "# Comment this to turn on warnings\n",
    "warnings.filterwarnings('ignore')\n",
    "\n",
    "#plt.style.use('seaborn')\n",
    "sns.set()\n",
    "sns.set_context(\"paper\")\n",
    "sns.set_style(\"darkgrid\", {\"axes.facecolor\": \"0.96\"})\n",
    "\n",
    "# Set fontsizes in figures\n",
    "params = {'legend.fontsize': 'large',\n",
    "          'axes.labelsize': 'large',\n",
    "          'axes.titlesize': 'large',\n",
    "          'xtick.labelsize': 'large',\n",
    "          'ytick.labelsize': 'large',\n",
    "          'legend.fontsize': 'large',\n",
    "          'legend.handlelength': 2}\n",
    "plt.rcParams.update(params)\n",
    "plt.rc('text', usetex=True)\n",
    "\n",
    "%matplotlib inline\n",
    "%config InlineBackend.figure_format = 'retina'\n",
    "%load_ext autoreload\n",
    "%autoreload 2"
   ]
  },
  {
   "cell_type": "markdown",
   "metadata": {},
   "source": [
    "# Prior Distributions <a name=\"priors\"></a>\n",
    "\n",
    "stuff\n",
    "\n",
    "## How to Choose a Prior <a name=\"howto\"></a> \n",
    "\n",
    "sub stuff"
   ]
  },
  {
   "cell_type": "markdown",
   "metadata": {},
   "source": [
    "# Available Distributions in pyLFI <a name=\"available\"></a>\n",
    "\n",
    "## Continuous Distributions <a name=\"cont\"></a>\n",
    "\n",
    "stuff\n",
    "\n",
    "### Uniform <a name=\"uniform\"></a> \n",
    "\n",
    "sub stuff"
   ]
  },
  {
   "cell_type": "code",
   "execution_count": null,
   "metadata": {},
   "outputs": [],
   "source": [
    "x = np.linspace(0, 10, 1000)\n",
    "    theta_prior = LogNormal(s=0.1, loc=0, scale=1, name='theta')\n",
    "    theta_prior.plot_prior(x)"
   ]
  },
  {
   "cell_type": "markdown",
   "metadata": {},
   "source": [
    "### Normal <a name=\"normal\"></a> \n",
    "\n",
    "sub stuff"
   ]
  },
  {
   "cell_type": "code",
   "execution_count": null,
   "metadata": {},
   "outputs": [],
   "source": []
  },
  {
   "cell_type": "markdown",
   "metadata": {},
   "source": [
    "## Beta Prior <a name=\"beta\"></a> \n",
    "\n",
    "sub stuff"
   ]
  },
  {
   "cell_type": "code",
   "execution_count": null,
   "metadata": {},
   "outputs": [],
   "source": []
  },
  {
   "cell_type": "markdown",
   "metadata": {},
   "source": [
    "## Lognormal Prior <a name=\"lognormal\"></a> \n",
    "\n",
    "sub stuff"
   ]
  },
  {
   "cell_type": "code",
   "execution_count": null,
   "metadata": {},
   "outputs": [],
   "source": []
  },
  {
   "cell_type": "markdown",
   "metadata": {},
   "source": [
    "## Exponential Prior <a name=\"exponential\"></a> \n",
    "\n",
    "sub stuff"
   ]
  },
  {
   "cell_type": "code",
   "execution_count": null,
   "metadata": {},
   "outputs": [],
   "source": []
  },
  {
   "cell_type": "markdown",
   "metadata": {},
   "source": [
    "## Gamma Prior <a name=\"gamma\"></a> \n",
    "\n",
    "sub stuff"
   ]
  },
  {
   "cell_type": "code",
   "execution_count": null,
   "metadata": {},
   "outputs": [],
   "source": []
  },
  {
   "cell_type": "markdown",
   "metadata": {},
   "source": [
    "## Inverse Gamma Prior <a name=\"invgamma\"></a> \n",
    "\n",
    "sub stuff"
   ]
  },
  {
   "cell_type": "code",
   "execution_count": null,
   "metadata": {},
   "outputs": [],
   "source": []
  },
  {
   "cell_type": "markdown",
   "metadata": {},
   "source": [
    "# Discrete Priors <a name=\"discrete\"></a>\n",
    "\n",
    "stuff\n",
    "\n",
    "## Uniform Random Integers <a name=\"randint\"></a> \n",
    "\n",
    "sub stuff"
   ]
  },
  {
   "cell_type": "code",
   "execution_count": null,
   "metadata": {},
   "outputs": [],
   "source": []
  },
  {
   "cell_type": "markdown",
   "metadata": {},
   "source": [
    "## Binomial Prior <a name=\"binom\"></a> \n",
    "\n",
    "sub stuff"
   ]
  },
  {
   "cell_type": "code",
   "execution_count": null,
   "metadata": {},
   "outputs": [],
   "source": []
  },
  {
   "cell_type": "code",
   "execution_count": null,
   "metadata": {},
   "outputs": [],
   "source": []
  },
  {
   "cell_type": "code",
   "execution_count": null,
   "metadata": {},
   "outputs": [],
   "source": []
  },
  {
   "cell_type": "markdown",
   "metadata": {},
   "source": [
    "* [Prior Distributions](#priors)\n",
    "    * [How to Choose a Prior](#howto)\n",
    "* [Continuous Priors](#cont)\n",
    "    * [Uniform](#uniform)\n",
    "    * [Normal](#normal)\n",
    "    * [Beta](#beta)\n",
    "    * [Lognormal](#lognormal)\n",
    "    * [Exponential](#exponential)\n",
    "    * [Gamma](#gamma)\n",
    "    * [Inverse Gamma](#invgamma)\n",
    "* [Discrete Priors](#cont)\n",
    "    * [Uniform Random Integers](#randint)\n",
    "    * [Binomial](#binom)\n",
    "    * [Negative Binomial](#negbinom)\n",
    "    * [Poisson](#poisson)"
   ]
  }
 ],
 "metadata": {
  "kernelspec": {
   "display_name": "Python 3",
   "language": "python",
   "name": "python3"
  },
  "language_info": {
   "codemirror_mode": {
    "name": "ipython",
    "version": 3
   },
   "file_extension": ".py",
   "mimetype": "text/x-python",
   "name": "python",
   "nbconvert_exporter": "python",
   "pygments_lexer": "ipython3",
   "version": "3.8.5"
  }
 },
 "nbformat": 4,
 "nbformat_minor": 4
}
